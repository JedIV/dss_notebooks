{
  "metadata": {
    "kernelspec": {
      "name": "python3",
      "display_name": "Python 3",
      "language": "python"
    },
    "creator": "admin",
    "createdOn": 1618434983229,
    "tags": [],
    "customFields": {},
    "language_info": {
      "name": "python",
      "version": "3.6.8",
      "mimetype": "text/x-python",
      "codemirror_mode": {
        "name": "ipython",
        "version": 3
      },
      "pygments_lexer": "ipython3",
      "nbconvert_exporter": "python",
      "file_extension": ".py"
    },
    "modifiedBy": "admin"
  },
  "nbformat": 4,
  "nbformat_minor": 1,
  "cells": [
    {
      "execution_count": 2,
      "cell_type": "code",
      "metadata": {},
      "source": [
        "%pylab inline"
      ],
      "outputs": [
        {
          "output_type": "stream",
          "text": "Populating the interactive namespace from numpy and matplotlib\n",
          "name": "stdout"
        }
      ]
    },
    {
      "execution_count": 3,
      "cell_type": "code",
      "metadata": {},
      "source": [
        "import dataiku\nfrom dataiku import pandasutils as pdu\nimport pandas as pd"
      ],
      "outputs": []
    },
    {
      "execution_count": 2,
      "cell_type": "code",
      "metadata": {},
      "source": [
        "from dataiku import SQLExecutor2\n\nexecutor \u003d SQLExecutor2(connection\u003d\"casenet-pg\") # or dataset\u003d\"dataset_name\""
      ],
      "outputs": []
    },
    {
      "execution_count": 19,
      "cell_type": "code",
      "metadata": {},
      "source": [
        "query \u003d \"\"\" \n        select\n            max(judge_assigned) as judge,\n            cast(count(case when evicted and disposition not like \u0027%ism\u0027 then 1 end) as float) as \"eviction_rate\",\n            count(*) as hearings,\n            max(to_date(disposition_date, \u0027MM/DD/YYYY\u0027)) as max_date,\n            min(to_date(disposition_date, \u0027MM/DD/YYYY\u0027)) as min_date\n\n        from filings_pg\n        where to_date(disposition_date, \u0027MM/DD/YYYY\u0027) between date_trunc(\u0027month\u0027, date_trunc(\u0027day\u0027, NOW() - interval \u002713 month\u0027)) and date_trunc(\u0027month\u0027, date_trunc(\u0027day\u0027, NOW() - interval \u00271 month\u0027))\n          and location like \u0027%Jack%\u0027\n        group by split_part(judge_assigned, \u0027,\u0027, 1)\n        having count(*) \u003e 10\n\"\"\"\n\nexecutor.query_to_df(query)\n# list(executor.query_to_iter(query).iter_tuples())"
      ],
      "outputs": [
        {
          "output_type": "execute_result",
          "execution_count": 19,
          "data": {
            "text/plain": "                    judge  eviction_rate  hearings                  max_date                  min_date\n0  AGNELLY, JESSICA MARIE           89.0       204  2020-12-29T00:00:00.000Z  2020-03-05T00:00:00.000Z\n1   BIRD-RILEY, KEA SHANI           17.0        54  2021-02-26T00:00:00.000Z  2021-01-04T00:00:00.000Z\n2      CASTLE, SARAH ANNE          253.0       526  2021-01-13T00:00:00.000Z  2020-03-02T00:00:00.000Z\n3    RODECAP, JANETTE KAY          445.0       784  2021-03-01T00:00:00.000Z  2020-03-04T00:00:00.000Z\n4   STANDRIDGE, RICHARD T          291.0       497  2020-09-02T00:00:00.000Z  2020-03-02T00:00:00.000Z\n5     STOCKDALE, KYNDRA J         1029.0      1825  2021-03-01T00:00:00.000Z  2020-03-01T00:00:00.000Z\n6      WEIR, MARY FRANCES          356.0       697  2021-03-01T00:00:00.000Z  2020-03-04T00:00:00.000Z\n7   WILLINGHAM, R. TRAVIS           58.0       102  2021-03-01T00:00:00.000Z  2021-01-02T00:00:00.000Z",
            "text/html": "\n            \u003cbutton style\u003d\"display:none\" \n            class\u003d\"btn btn-default ipython-export-btn\" \n            id\u003d\"btn-df-4adac514-268b-4bfc-b93d-093272508089\" \n            onclick\u003d\"_export_df(\u00274adac514-268b-4bfc-b93d-093272508089\u0027)\"\u003e\n                Export dataframe\n            \u003c/button\u003e\n            \n            \u003cscript\u003e\n                \n                function _check_export_df_possible(dfid,yes_fn,no_fn) {\n                    console.log(\u0027Checking dataframe exportability...\u0027)\n                    if(!IPython || !IPython.notebook || !IPython.notebook.kernel || !IPython.notebook.kernel) {\n                        console.log(\u0027Export is not possible (IPython kernel is not available)\u0027)\n                        if(no_fn) {\n                            no_fn();\n                        }\n                    } else {\n                        var pythonCode \u003d \u0027from dataiku.notebook.export import IPythonExporter;IPythonExporter._check_export_stdout(\"\u0027+dfid+\u0027\")\u0027;\n                        IPython.notebook.kernel.execute(pythonCode,{iopub: {output: function(resp) {\n                            console.info(\"Exportability response\", resp);\n                            var size \u003d /^([0-9]+)x([0-9]+)$/.exec(resp.content.data || resp.content.text)\n                            if(!size) {\n                                console.log(\u0027Export is not possible (dataframe is not in-memory anymore)\u0027)\n                                if(no_fn) {\n                                    no_fn();\n                                }\n                            } else {\n                                console.log(\u0027Export is possible\u0027)\n                                if(yes_fn) {\n                                    yes_fn(1*size[1],1*size[2]);\n                                }\n                            }\n                        }}});\n                    }\n                }\n            \n                function _export_df(dfid) {\n                    \n                    var btn \u003d $(\u0027#btn-df-\u0027+dfid);\n                    var btns \u003d $(\u0027.ipython-export-btn\u0027);\n                    \n                    _check_export_df_possible(dfid,function() {\n                        \n                        window.parent.openExportModalFromIPython(\u0027Pandas dataframe\u0027,function(data) {\n                            btns.prop(\u0027disabled\u0027,true);\n                            btn.text(\u0027Exporting...\u0027);\n                            var command \u003d \u0027from dataiku.notebook.export import IPythonExporter;IPythonExporter._run_export(\"\u0027+dfid+\u0027\",\"\u0027+data.exportId+\u0027\")\u0027;\n                            var callback \u003d {iopub:{output: function(resp) {\n                                console.info(\"CB resp:\", resp);\n                                _check_export_df_possible(dfid,function(rows, cols) {\n                                    $(\u0027#btn-df-\u0027+dfid)\n                                        .css(\u0027display\u0027,\u0027inline-block\u0027)\n                                        .text(\u0027Export this dataframe (\u0027+rows+\u0027 rows, \u0027+cols+\u0027 cols)\u0027)\n                                        .prop(\u0027disabled\u0027,false);\n                                },function() {\n                                    $(\u0027#btn-df-\u0027+dfid).css(\u0027display\u0027,\u0027none\u0027);\n                                });\n                            }}};\n                            IPython.notebook.kernel.execute(command,callback,{silent:false}); // yes, silent now defaults to true. figures.\n                        });\n                    \n                    }, function(){\n                            alert(\u0027Unable to export : the Dataframe object is not loaded in memory\u0027);\n                            btn.css(\u0027display\u0027,\u0027none\u0027);\n                    });\n                    \n                }\n                \n                (function(dfid) {\n                \n                    var retryCount \u003d 10;\n                \n                    function is_valid_websock(s) {\n                        return s \u0026\u0026 s.readyState\u003d\u003d1;\n                    }\n                \n                    function check_conn() {\n                        \n                        if(!IPython || !IPython.notebook) {\n                            // Don\u0027t even try to go further\n                            return;\n                        }\n                        \n                        // Check if IPython is ready\n                        console.info(\"Checking conn ...\")\n                        if(IPython.notebook.kernel\n                        \u0026\u0026 IPython.notebook.kernel\n                        \u0026\u0026 is_valid_websock(IPython.notebook.kernel.ws)\n                        ) {\n                            \n                            _check_export_df_possible(dfid,function(rows, cols) {\n                                $(\u0027#btn-df-\u0027+dfid).css(\u0027display\u0027,\u0027inline-block\u0027);\n                                $(\u0027#btn-df-\u0027+dfid).text(\u0027Export this dataframe (\u0027+rows+\u0027 rows, \u0027+cols+\u0027 cols)\u0027);\n                            });\n                            \n                        } else {\n                            console.info(\"Conditions are not ok\", IPython.notebook.kernel);\n                            \n                            // Retry later\n                            \n                            if(retryCount\u003e0) {\n                                setTimeout(check_conn,500);\n                                retryCount--;\n                            }\n                            \n                        }\n                    };\n                    \n                    setTimeout(check_conn,100);\n                    \n                })(\"4adac514-268b-4bfc-b93d-093272508089\");\n                \n            \u003c/script\u003e\n            \n        \u003cdiv\u003e\n\u003cstyle scoped\u003e\n    .dataframe tbody tr th:only-of-type {\n        vertical-align: middle;\n    }\n\n    .dataframe tbody tr th {\n        vertical-align: top;\n    }\n\n    .dataframe thead th {\n        text-align: right;\n    }\n\u003c/style\u003e\n\u003ctable border\u003d\"1\" class\u003d\"dataframe\"\u003e\n  \u003cthead\u003e\n    \u003ctr style\u003d\"text-align: right;\"\u003e\n      \u003cth\u003e\u003c/th\u003e\n      \u003cth\u003ejudge\u003c/th\u003e\n      \u003cth\u003eeviction_rate\u003c/th\u003e\n      \u003cth\u003ehearings\u003c/th\u003e\n      \u003cth\u003emax_date\u003c/th\u003e\n      \u003cth\u003emin_date\u003c/th\u003e\n    \u003c/tr\u003e\n  \u003c/thead\u003e\n  \u003ctbody\u003e\n    \u003ctr\u003e\n      \u003cth\u003e0\u003c/th\u003e\n      \u003ctd\u003eAGNELLY, JESSICA MARIE\u003c/td\u003e\n      \u003ctd\u003e89.0\u003c/td\u003e\n      \u003ctd\u003e204\u003c/td\u003e\n      \u003ctd\u003e2020-12-29T00:00:00.000Z\u003c/td\u003e\n      \u003ctd\u003e2020-03-05T00:00:00.000Z\u003c/td\u003e\n    \u003c/tr\u003e\n    \u003ctr\u003e\n      \u003cth\u003e1\u003c/th\u003e\n      \u003ctd\u003eBIRD-RILEY, KEA SHANI\u003c/td\u003e\n      \u003ctd\u003e17.0\u003c/td\u003e\n      \u003ctd\u003e54\u003c/td\u003e\n      \u003ctd\u003e2021-02-26T00:00:00.000Z\u003c/td\u003e\n      \u003ctd\u003e2021-01-04T00:00:00.000Z\u003c/td\u003e\n    \u003c/tr\u003e\n    \u003ctr\u003e\n      \u003cth\u003e2\u003c/th\u003e\n      \u003ctd\u003eCASTLE, SARAH ANNE\u003c/td\u003e\n      \u003ctd\u003e253.0\u003c/td\u003e\n      \u003ctd\u003e526\u003c/td\u003e\n      \u003ctd\u003e2021-01-13T00:00:00.000Z\u003c/td\u003e\n      \u003ctd\u003e2020-03-02T00:00:00.000Z\u003c/td\u003e\n    \u003c/tr\u003e\n    \u003ctr\u003e\n      \u003cth\u003e3\u003c/th\u003e\n      \u003ctd\u003eRODECAP, JANETTE KAY\u003c/td\u003e\n      \u003ctd\u003e445.0\u003c/td\u003e\n      \u003ctd\u003e784\u003c/td\u003e\n      \u003ctd\u003e2021-03-01T00:00:00.000Z\u003c/td\u003e\n      \u003ctd\u003e2020-03-04T00:00:00.000Z\u003c/td\u003e\n    \u003c/tr\u003e\n    \u003ctr\u003e\n      \u003cth\u003e4\u003c/th\u003e\n      \u003ctd\u003eSTANDRIDGE, RICHARD T\u003c/td\u003e\n      \u003ctd\u003e291.0\u003c/td\u003e\n      \u003ctd\u003e497\u003c/td\u003e\n      \u003ctd\u003e2020-09-02T00:00:00.000Z\u003c/td\u003e\n      \u003ctd\u003e2020-03-02T00:00:00.000Z\u003c/td\u003e\n    \u003c/tr\u003e\n    \u003ctr\u003e\n      \u003cth\u003e5\u003c/th\u003e\n      \u003ctd\u003eSTOCKDALE, KYNDRA J\u003c/td\u003e\n      \u003ctd\u003e1029.0\u003c/td\u003e\n      \u003ctd\u003e1825\u003c/td\u003e\n      \u003ctd\u003e2021-03-01T00:00:00.000Z\u003c/td\u003e\n      \u003ctd\u003e2020-03-01T00:00:00.000Z\u003c/td\u003e\n    \u003c/tr\u003e\n    \u003ctr\u003e\n      \u003cth\u003e6\u003c/th\u003e\n      \u003ctd\u003eWEIR, MARY FRANCES\u003c/td\u003e\n      \u003ctd\u003e356.0\u003c/td\u003e\n      \u003ctd\u003e697\u003c/td\u003e\n      \u003ctd\u003e2021-03-01T00:00:00.000Z\u003c/td\u003e\n      \u003ctd\u003e2020-03-04T00:00:00.000Z\u003c/td\u003e\n    \u003c/tr\u003e\n    \u003ctr\u003e\n      \u003cth\u003e7\u003c/th\u003e\n      \u003ctd\u003eWILLINGHAM, R. TRAVIS\u003c/td\u003e\n      \u003ctd\u003e58.0\u003c/td\u003e\n      \u003ctd\u003e102\u003c/td\u003e\n      \u003ctd\u003e2021-03-01T00:00:00.000Z\u003c/td\u003e\n      \u003ctd\u003e2021-01-02T00:00:00.000Z\u003c/td\u003e\n    \u003c/tr\u003e\n  \u003c/tbody\u003e\n\u003c/table\u003e\n\u003c/div\u003e"
          },
          "metadata": {}
        }
      ]
    },
    {
      "execution_count": 0,
      "cell_type": "code",
      "metadata": {},
      "source": [
        ""
      ],
      "outputs": []
    }
  ]
}